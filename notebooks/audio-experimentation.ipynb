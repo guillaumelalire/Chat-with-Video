{
 "cells": [
  {
   "cell_type": "code",
   "execution_count": 3,
   "id": "a8f48bc7-8e5e-4327-b378-ad6818e215be",
   "metadata": {
    "scrolled": true
   },
   "outputs": [
    {
     "name": "stdout",
     "output_type": "stream",
     "text": [
      "Defaulting to user installation because normal site-packages is not writeable\n",
      "Collecting openai-whisper\n",
      "  Downloading openai-whisper-20231117.tar.gz (798 kB)\n",
      "\u001b[2K     \u001b[90m━━━━━━━━━━━━━━━━━━━━━━━━━━━━━━━━━━━━━━━\u001b[0m \u001b[32m798.6/798.6 kB\u001b[0m \u001b[31m5.1 MB/s\u001b[0m eta \u001b[36m0:00:00\u001b[0m\n",
      "\u001b[?25h  Installing build dependencies ... \u001b[?25ldone\n",
      "\u001b[?25h  Getting requirements to build wheel ... \u001b[?25ldone\n",
      "\u001b[?25h  Preparing metadata (pyproject.toml) ... \u001b[?25ldone\n",
      "\u001b[?25hCollecting triton<3,>=2.0.0 (from openai-whisper)\n",
      "  Downloading triton-2.3.1-cp310-cp310-manylinux_2_17_x86_64.manylinux2014_x86_64.whl.metadata (1.4 kB)\n",
      "Collecting numba (from openai-whisper)\n",
      "  Downloading numba-0.60.0-cp310-cp310-manylinux2014_x86_64.manylinux_2_17_x86_64.whl.metadata (2.7 kB)\n",
      "Requirement already satisfied: numpy in /home/guilalire/.local/lib/python3.10/site-packages (from openai-whisper) (1.26.4)\n",
      "Requirement already satisfied: torch in /home/guilalire/.local/lib/python3.10/site-packages (from openai-whisper) (2.4.1)\n",
      "Requirement already satisfied: tqdm in /home/guilalire/.local/lib/python3.10/site-packages (from openai-whisper) (4.66.2)\n",
      "Requirement already satisfied: more-itertools in /usr/lib/python3/dist-packages (from openai-whisper) (8.10.0)\n",
      "Requirement already satisfied: tiktoken in /home/guilalire/.local/lib/python3.10/site-packages (from openai-whisper) (0.6.0)\n",
      "Requirement already satisfied: filelock in /home/guilalire/.local/lib/python3.10/site-packages (from triton<3,>=2.0.0->openai-whisper) (3.9.0)\n",
      "Collecting llvmlite<0.44,>=0.43.0dev0 (from numba->openai-whisper)\n",
      "  Downloading llvmlite-0.43.0-cp310-cp310-manylinux_2_17_x86_64.manylinux2014_x86_64.whl.metadata (4.8 kB)\n",
      "Requirement already satisfied: regex>=2022.1.18 in /home/guilalire/.local/lib/python3.10/site-packages (from tiktoken->openai-whisper) (2023.12.25)\n",
      "Requirement already satisfied: requests>=2.26.0 in /home/guilalire/.local/lib/python3.10/site-packages (from tiktoken->openai-whisper) (2.32.3)\n",
      "Requirement already satisfied: typing-extensions>=4.8.0 in /home/guilalire/.local/lib/python3.10/site-packages (from torch->openai-whisper) (4.12.2)\n",
      "Requirement already satisfied: sympy in /usr/lib/python3/dist-packages (from torch->openai-whisper) (1.9)\n",
      "Requirement already satisfied: networkx in /home/guilalire/.local/lib/python3.10/site-packages (from torch->openai-whisper) (3.2.1)\n",
      "Requirement already satisfied: jinja2 in /home/guilalire/.local/lib/python3.10/site-packages (from torch->openai-whisper) (3.1.3)\n",
      "Requirement already satisfied: fsspec in /home/guilalire/.local/lib/python3.10/site-packages (from torch->openai-whisper) (2024.2.0)\n",
      "Requirement already satisfied: nvidia-cuda-nvrtc-cu12==12.1.105 in /home/guilalire/.local/lib/python3.10/site-packages (from torch->openai-whisper) (12.1.105)\n",
      "Requirement already satisfied: nvidia-cuda-runtime-cu12==12.1.105 in /home/guilalire/.local/lib/python3.10/site-packages (from torch->openai-whisper) (12.1.105)\n",
      "Requirement already satisfied: nvidia-cuda-cupti-cu12==12.1.105 in /home/guilalire/.local/lib/python3.10/site-packages (from torch->openai-whisper) (12.1.105)\n",
      "Requirement already satisfied: nvidia-cudnn-cu12==9.1.0.70 in /home/guilalire/.local/lib/python3.10/site-packages (from torch->openai-whisper) (9.1.0.70)\n",
      "Requirement already satisfied: nvidia-cublas-cu12==12.1.3.1 in /home/guilalire/.local/lib/python3.10/site-packages (from torch->openai-whisper) (12.1.3.1)\n",
      "Requirement already satisfied: nvidia-cufft-cu12==11.0.2.54 in /home/guilalire/.local/lib/python3.10/site-packages (from torch->openai-whisper) (11.0.2.54)\n",
      "Requirement already satisfied: nvidia-curand-cu12==10.3.2.106 in /home/guilalire/.local/lib/python3.10/site-packages (from torch->openai-whisper) (10.3.2.106)\n",
      "Requirement already satisfied: nvidia-cusolver-cu12==11.4.5.107 in /home/guilalire/.local/lib/python3.10/site-packages (from torch->openai-whisper) (11.4.5.107)\n",
      "Requirement already satisfied: nvidia-cusparse-cu12==12.1.0.106 in /home/guilalire/.local/lib/python3.10/site-packages (from torch->openai-whisper) (12.1.0.106)\n",
      "Requirement already satisfied: nvidia-nccl-cu12==2.20.5 in /home/guilalire/.local/lib/python3.10/site-packages (from torch->openai-whisper) (2.20.5)\n",
      "Requirement already satisfied: nvidia-nvtx-cu12==12.1.105 in /home/guilalire/.local/lib/python3.10/site-packages (from torch->openai-whisper) (12.1.105)\n",
      "INFO: pip is looking at multiple versions of torch to determine which version is compatible with other requirements. This could take a while.\n",
      "Collecting torch (from openai-whisper)\n",
      "  Downloading torch-2.4.0-cp310-cp310-manylinux1_x86_64.whl.metadata (26 kB)\n",
      "  Downloading torch-2.3.1-cp310-cp310-manylinux1_x86_64.whl.metadata (26 kB)\n",
      "Collecting nvidia-cudnn-cu12==8.9.2.26 (from torch->openai-whisper)\n",
      "  Downloading nvidia_cudnn_cu12-8.9.2.26-py3-none-manylinux1_x86_64.whl.metadata (1.6 kB)\n",
      "Requirement already satisfied: nvidia-nvjitlink-cu12 in /home/guilalire/.local/lib/python3.10/site-packages (from nvidia-cusolver-cu12==11.4.5.107->torch->openai-whisper) (12.6.68)\n",
      "Requirement already satisfied: charset-normalizer<4,>=2 in /home/guilalire/.local/lib/python3.10/site-packages (from requests>=2.26.0->tiktoken->openai-whisper) (3.3.2)\n",
      "Requirement already satisfied: idna<4,>=2.5 in /home/guilalire/.local/lib/python3.10/site-packages (from requests>=2.26.0->tiktoken->openai-whisper) (3.8)\n",
      "Requirement already satisfied: urllib3<3,>=1.21.1 in /home/guilalire/.local/lib/python3.10/site-packages (from requests>=2.26.0->tiktoken->openai-whisper) (2.2.2)\n",
      "Requirement already satisfied: certifi>=2017.4.17 in /home/guilalire/.local/lib/python3.10/site-packages (from requests>=2.26.0->tiktoken->openai-whisper) (2024.8.30)\n",
      "Requirement already satisfied: MarkupSafe>=2.0 in /home/guilalire/.local/lib/python3.10/site-packages (from jinja2->torch->openai-whisper) (2.1.5)\n",
      "Downloading triton-2.3.1-cp310-cp310-manylinux_2_17_x86_64.manylinux2014_x86_64.whl (168.1 MB)\n",
      "\u001b[2K   \u001b[90m━━━━━━━━━━━━━━━━━━━━━━━━━━━━━━━━━━━━━━━━\u001b[0m \u001b[32m168.1/168.1 MB\u001b[0m \u001b[31m25.5 MB/s\u001b[0m eta \u001b[36m0:00:00\u001b[0m00:01\u001b[0m00:01\u001b[0m\n",
      "\u001b[?25hDownloading numba-0.60.0-cp310-cp310-manylinux2014_x86_64.manylinux_2_17_x86_64.whl (3.7 MB)\n",
      "\u001b[2K   \u001b[90m━━━━━━━━━━━━━━━━━━━━━━━━━━━━━━━━━━━━━━━━\u001b[0m \u001b[32m3.7/3.7 MB\u001b[0m \u001b[31m31.4 MB/s\u001b[0m eta \u001b[36m0:00:00\u001b[0m\n",
      "\u001b[?25hDownloading torch-2.3.1-cp310-cp310-manylinux1_x86_64.whl (779.1 MB)\n",
      "\u001b[2K   \u001b[90m━━━━━━━━━━━━━━━━━━━━━━━━━━━━━━━━━━━━━━━━\u001b[0m \u001b[32m779.1/779.1 MB\u001b[0m \u001b[31m22.2 MB/s\u001b[0m eta \u001b[36m0:00:00\u001b[0m00:01\u001b[0m00:01\u001b[0m\n",
      "\u001b[?25hDownloading nvidia_cudnn_cu12-8.9.2.26-py3-none-manylinux1_x86_64.whl (731.7 MB)\n",
      "\u001b[2K   \u001b[90m━━━━━━━━━━━━━━━━━━━━━━━━━━━━━━━━━━━━━━━━\u001b[0m \u001b[32m731.7/731.7 MB\u001b[0m \u001b[31m16.9 MB/s\u001b[0m eta \u001b[36m0:00:00\u001b[0m00:01\u001b[0m00:02\u001b[0m\n",
      "\u001b[?25hDownloading llvmlite-0.43.0-cp310-cp310-manylinux_2_17_x86_64.manylinux2014_x86_64.whl (43.9 MB)\n",
      "\u001b[2K   \u001b[90m━━━━━━━━━━━━━━━━━━━━━━━━━━━━━━━━━━━━━━━━\u001b[0m \u001b[32m43.9/43.9 MB\u001b[0m \u001b[31m22.1 MB/s\u001b[0m eta \u001b[36m0:00:00\u001b[0ma \u001b[36m0:00:01\u001b[0m\n",
      "\u001b[?25hBuilding wheels for collected packages: openai-whisper\n",
      "  Building wheel for openai-whisper (pyproject.toml) ... \u001b[?25ldone\n",
      "\u001b[?25h  Created wheel for openai-whisper: filename=openai_whisper-20231117-py3-none-any.whl size=801360 sha256=1ed5e5fbeccecc4836baef19d75bea54d6d560333b0092d5e85bebd5e9a332bf\n",
      "  Stored in directory: /home/guilalire/.cache/pip/wheels/d0/85/e1/9361b4cbea7dd4b7f6702fa4c3afc94877952eeb2b62f45f56\n",
      "Successfully built openai-whisper\n",
      "Installing collected packages: triton, nvidia-cudnn-cu12, llvmlite, numba, torch, openai-whisper\n",
      "  Attempting uninstall: triton\n",
      "    Found existing installation: triton 3.0.0\n",
      "    Uninstalling triton-3.0.0:\n",
      "      Successfully uninstalled triton-3.0.0\n",
      "  Attempting uninstall: nvidia-cudnn-cu12\n",
      "    Found existing installation: nvidia-cudnn-cu12 9.1.0.70\n",
      "    Uninstalling nvidia-cudnn-cu12-9.1.0.70:\n",
      "      Successfully uninstalled nvidia-cudnn-cu12-9.1.0.70\n",
      "  Attempting uninstall: torch\n",
      "    Found existing installation: torch 2.4.1\n",
      "    Uninstalling torch-2.4.1:\n",
      "      Successfully uninstalled torch-2.4.1\n",
      "\u001b[31mERROR: pip's dependency resolver does not currently take into account all the packages that are installed. This behaviour is the source of the following dependency conflicts.\n",
      "torchaudio 2.2.2+cu118 requires torch==2.2.2, but you have torch 2.3.1 which is incompatible.\n",
      "torchvision 0.17.2+cu118 requires torch==2.2.2, but you have torch 2.3.1 which is incompatible.\u001b[0m\u001b[31m\n",
      "\u001b[0mSuccessfully installed llvmlite-0.43.0 numba-0.60.0 nvidia-cudnn-cu12-8.9.2.26 openai-whisper-20231117 torch-2.3.1 triton-2.3.1\n"
     ]
    }
   ],
   "source": [
    "!pip install -U openai-whisper"
   ]
  },
  {
   "cell_type": "code",
   "execution_count": 7,
   "id": "609e2606-106f-4c79-80c7-775fa16200f3",
   "metadata": {},
   "outputs": [
    {
     "name": "stdout",
     "output_type": "stream",
     "text": [
      "Defaulting to user installation because normal site-packages is not writeable\n",
      "Collecting pytubefix\n",
      "  Downloading pytubefix-6.15.1-py3-none-any.whl.metadata (5.4 kB)\n",
      "Downloading pytubefix-6.15.1-py3-none-any.whl (78 kB)\n",
      "Installing collected packages: pytubefix\n",
      "Successfully installed pytubefix-6.15.1\n"
     ]
    }
   ],
   "source": [
    "!pip install pytubefix"
   ]
  },
  {
   "cell_type": "markdown",
   "id": "af8936b0-cee0-4ead-af41-7ff00414b106",
   "metadata": {},
   "source": [
    "## Download audio from YouTube video"
   ]
  },
  {
   "cell_type": "code",
   "execution_count": 8,
   "id": "6352ff40-a5cf-4fe4-91fa-0c914d84b4c0",
   "metadata": {},
   "outputs": [
    {
     "data": {
      "text/plain": [
       "'/home/guilalire/Personal/Discover-France-LLM/notebooks/audio.mp3'"
      ]
     },
     "execution_count": 8,
     "metadata": {},
     "output_type": "execute_result"
    }
   ],
   "source": [
    "import pytubefix as pt\n",
    "\n",
    "yt = pt.YouTube(\"https://www.youtube.com/watch?v=eK0GXrZpuqs\")\n",
    "stream = yt.streams.filter(only_audio=True)[0]\n",
    "stream.download(filename=\"audio.mp3\")"
   ]
  },
  {
   "cell_type": "markdown",
   "id": "9f609d21-b9cb-4e80-93e1-bced9c2315f9",
   "metadata": {},
   "source": [
    "## Transcribe audio using OpenAI Whisper"
   ]
  },
  {
   "cell_type": "code",
   "execution_count": 9,
   "id": "fd29f1e0-4180-4f97-b356-1af0851272a3",
   "metadata": {
    "scrolled": true
   },
   "outputs": [
    {
     "data": {
      "text/plain": [
       "\" 17 millions c'est le nombre de personnes qui ont regardé la cérémonie de clôture des jeux olympiques de Paris, ce dimanche soir au stade de France. Une cérémonie qui signe donc la fin de ces géos 2024, qui apparaissent comme une vraie réussite au lieu des Français évidemment, mais aussi du monde entier. Alors comment l'expliquer ? Salut c'est Blanche, j'espère que vous allez bien, c'est le sujet à la une de ces actus du jour. La première réussite de ces jeux, ce sont les audiences télé, mais aussi la vente de billets pour les épreuves. La couteille audience, 58,4 millions de personnes, suivent les jeux olympiques sur les antennes de France, les visions, selon le groupe audiovisuel. Le pic d'audience a été atteint sur France 2, le 2 ou dernier, lors de la 4e médaille d'or du nageur Léon Marchand, avec 14,5 millions de télé-spectateurs. Côté billeterie, 9,5 millions de billets ont été vendus, soit plus que le record des 8,3 millions de billets vendus au jeu d'Atlanta en 1986. La deuxième réussite, je ne vous apprend rien, c'est au niveau plus en moins sportif pour la France notamment, qui a surpassé son record de médaille des Joues d'Atlanta, en gagnant 16 médailles d'or, 26 médailles d'argent et 22 médailles de bronze, soit en total de 64 médailles, si vous voulez le détail des records, etc. Je vous mets des liens en description. Les autorités se sont aussi bien organisées au niveau sécurité et menace terroriste, 35 000 policiers et gendarmes, 18 000 militaires et 22 000 agents de sécurité privés ont été déployés pendant toute la durée des jeux, épaulés par 1800 renforts internationaux, originaire d'une quarantaine de pays. Et aucun incident majeur n'est à déplorer selon le gouvernement. Le seul et unique vrai problème qu'il y a eu, c'est le sabotage de l'inité GV, quelques heures avant le début de la Cérémonie d'ouverture, le 26 juillet, l'enquête se poursuit. La quatrième réussite, ce sont les transports en commun qui ont été très efficaces et salués par la plupart des touristes étrangers dans les médias, notamment dans un article du Parisien, que je vous mets en description, alors qu'on a annoncé un chaos. Selon Valérie Becresse, la présidente de la région Il de France, 4 millions de voyageurs ont été transportés chaque jour, soit 500 000 de plus qu'un été classique. Sinon 11 lignes de métro sur 14 ont affiché des résultats de régularité supérieure à 100%, et puis une partie des effectifs recrutés pour les géaux restaurons, après, c'est le cas de 250 conducteurs supplémentaires de la RATP. Enfin, je le disais en introduction, mais au-delà de la partie purement pratique, l'image à l'international de ces jeux olympiques a été très bonne. On l'a vu avec les deux presse qui ont suivi la Cérémonie d'ouverture, mais aussi là avec la Cérémonie de clôture. Par exemple, en titre de l'édito du Média américain, Viyatlantique, on peut lire Je Cite, merci Paris, on avait besoin de ces jeux olympiques. Même son cloche pour le Washington Post qui titre Je Cite, les jeux olympiques avaient besoin d'un nouveau départ, merci à Paris de l'avoir offert. De son côté, le journal britannique The Guardian considère les jeux olympiques de Paris comme les plus beaux du l'histoire, le quotidien espagnol elle-pa-y se part de la réussite de ces jeux qui se trouvent aussi selon lui sur le podium des meilleurs jeux de l'histoire. Et d'un dernier exemple, le journal italien Larae et Publica a souligné des jeux ou le symbole de l'intégration et de la lutte contre les discriminations. Ces jeux ou son ont qu'une réussite en tout point, mais alors la question qu'on peut se poser maintenant, c'est comment péréiniser tout ça. Et bien justement, sur ce sujet, Emmanuel Macron s'est exprimé dans un entretien donné à l'équipe publié ce dimanche soir, juste après la Cérémonie de clôture, il a annoncé qu'il dévoileraient je cite des mesures d'héritage des jeux de Paris, le 14 septembre, après le défiler des atlètes français sur les chansélysées. Alors on a déjà évoqué le fait que la Vasco-L'Empique reste au Toulerie, mais il pourrait donc y avoir d'autres annonces de son côté, la mère de Paris, Annie Dalgo, a cité comme héritage des jeux, la scène plus propre et une nouvelle piste cyclable ou encore les aménagements réalisés pour l'accessibilité. On sait déjà que le Centre aquatique de Saint-Ni, l'une des rares infrastructures construites pour les géaux sera transformée en une zone d'activité multisport, ouverte à tous des 2025. La Réna porte de la chapelle deviendra elle le lieu de résidence du club Paris-Basquette-Bôle, et enfin le village olympique deviendra une zone de résidence de 2.800 logements, pouvoir inquièrent jusqu'à 8 000 personnes, il y aura aussi une résidence étudiante, un hôtel et des bureaux. Il y a aussi la question de la pratique sportive, consacrée grande cause nationale pour 2024 par Emmanuel Macron. Alors selon Guillaume Ditch, hauteur du livre Les jeunes et le sport interrogeaient par le journal Lacroix, il faut que les infrastructures suivent. Selon lui il faut aussi faire en sorte que les jeunes qui s'inscriront à un sport à la rentrée n'apprendent pas en cours de route, les bénévoles des clubs et éducateurs sportifs seront donc la clé, il est estimé enfin qu'il faut revaloriser le PS à l'école qui reste la seule matière dont on peut être dispensé. Alors évidemment là on a beaucoup parlé des succès de ces géaux et notamment des prises de parole des autorités ces derniers jours qui vont en ce sens, mais beaucoup soulève aussi des critiques importantes. Il y a par exemple coéco logique de ces jeux 1,58 millions de tonnes de CO2 et MI, soit l'équivalent de ce que rejetent 150 000 personnes en France en un an selon Média Parte. Il y a aussi le coût social, en un an 5200 personnes ont été expulsées de squat et de corpmandrues en nil de France, et on était envoyés dans d'autres régions sans forcément avoir de logement. Si vous voulez en savoir plus sur ces critiques, je vous mets des liens en description. Alors juste avant de passer aux actualités en bref, je voulais vous dire qu'on reviendra plus en détail sur l'incursion ukrainienne actuellement en cours en Russie. 121 000 personnes ont été évacues et on m'en parlera plus longment dans la 1e de demain et on verra toutes les questions que ça pose. Première actue en France, 40 départements ont été placés en vigilance orange canicule se lundi parmété au France. À 5 heures du matin, il faisait déjà 27,6° anice, 26,2° à la rochelle ou encore 25,4° à Lyon. C'était la journée la plus chaude de l'année jusqu'à présent enregistré en France. En parallèle, trois départements ont été placés en vigilance orange pour risque d'orage violent. Il s'agit du cantal, du pute d'hôme et de la haute-loire. Pour en savoir plus sur les bonges est à adopter, vous pouvez appeler gratuitement canicule info-service, joignable aux 08,0066, 66, de 8 heures à 19 heures. Annotez que l'étemperature devrait baisser à partir de ce mardi. Deuxième actue toujours en rapport avec la chaleur, mais en grèce, cette fois-ci, où des incendies intense et parfois hors de contrôle ravage le pays depuis quelques jours. La situation est-elle que le premier ministre grec, Kiryako, mitzotakis a interrompu ses vacances pour rentrer ce dimanche soir à Athènes ? En fait, ça fait trois semaines que des centaines d'incendies ont éclaté un peu partout en grèce, notamment en crête dans la région de Patrasse, dans la péninsule du Pélo-Ponaise, ou encore dans les montagnes des environs de Ceres dans le Nord. La cause de ces incendies, ce sont plusieurs facteurs météorologiques, liés aux changements climatiques, les températures élevées, les vents qui soufflent en rafale et la sécheresse. Il faut savoir que les mois de juin et de juillet ont été les plus chauds en grès depuis le début de la collecte des statistiques en 1960. Les autorités grecques ont notamment ordonnés ce dimanche soir, les vaculations de la ville de Marathon, prédatène, qui est menacée par des incendies. Le stade Olympic Oaka, dans le Nord-Atènes, a été ouvert pour accueillir les milliers de personnes déplacées. Et justement, la capitale grecatène est encércée par des feux, dans la région de Latique. Les secours s'attendent à des jours très difficiles. Le ministre de l'Intérieur, Gérald Darmanin, a annoncé ce lundi l'envoi de 180 pompiers et de 55 camions, on continuera de suivre tout ça. Troisième actue, la France, le Royaume-Uni et l'Allemagne, ont appelé ce lundi dans un communiqué commun, un cessez-le-feu sans aucun délai supplémentaire dans la bande de Gaza et à la libération des otages toujours retenue à Gaza. Ils ont aussi invité l'Iran et ses alliés à ne pas lancer d'attaque contre Israël, afin d'éviter je cite une nouvelle escalade du conflit de son côté Israël a accepté de reprendre les négociations pour un cessez-le-feu à Gaza, mais seulement à partir du 15 août de leur côté les États-Unis ont pour objectif lors d'un sommet organisé ce judy au quai en Egypte ou à Doha au Qatar, de parvenir à un accord sur un cessez-le-feu avec l'aide de l'Égypte et du Qatar. Sinon, le Hamas appelait ce dimanche soir à appliquer le plan en trois phases proposé début juillet par les États-Unis pour une très vague Gaza, plutôt que de mêner plus de négociation ou d'amener de nouvelles propositions, il a aussi déclaré qu'il ne participerait pas au sommet de ce judy. Depuis le 7 octobre 2023, jour de l'attaque massive du Hamas en Israël, 1888 personnes ont été tuées coité Israëlien, selon Israël et 39790 personnes à Gaza, coité pas d'estignants, selon le Hamas. Sans l'on se personne Israëlienne et étrangère sont toujours retenus en otage à Gaza, dont 39 sont décédés selon l'armée Israëlienne. Et on termine avec cet actu, le youtubeur Normand Tavo a publié une vidéo se dimanche dans laquelle il revient sur les accusations de viols et de corruption de mineurs dont il a fait l'objet ces dernières années. Dans cette vidéo, Normand Tavo présente ses excuses aux femmes qui l'a publiées par le passé. Il reconnaît avoir été jecee parfois inélégant et immature dans son rapport au rencontre et à la séduction, lui parle notamment de gouges à tri pour désigner son rapport au femme, donc le comportement d'un homme grossier, indélicat. Si vous n'aviez pas tout suivi, en fait une enquête a été ouverte en 2022, après que plusieurs femmes ont certaines mineurs au moment des faits avaient accusé le youtubeur d'avoir échangé des photos à caractère sexuel avec lui et avoir eu parfois des relations intimes en 600 ans contraintes. Trois d'entrais l'avaient porté plainte, mais l'enquête a été classée sans suite en octobre 2023. Dans sa vidéo, Normand dénonçait aussi le harcèlement dont lui est sa femme Marta ou un des victimes depuis le début de l'affaire et explique avoir envisagé le pire. Il déclarent par ailleurs d'avoir plus de revenus depuis deux ans puisque Youtube a démonitisé ces vidéos et ne pas savoir si le reprendra un jour son activité. Voilà, c'est tout pour aujourd'hui. Merci beaucoup d'être toujours aussi nombreux à nous suivre même pendant les vacances. Prenez soin de vous et de vos proches et je vous dis à demain.\""
      ]
     },
     "execution_count": 9,
     "metadata": {},
     "output_type": "execute_result"
    }
   ],
   "source": [
    "import whisper\n",
    "\n",
    "model = whisper.load_model(\"base\")\n",
    "result = model.transcribe(\"audio.mp3\")\n",
    "text = result['text']\n",
    "language = result['language']\n",
    "\n",
    "text"
   ]
  },
  {
   "cell_type": "markdown",
   "id": "28434163-3631-49f0-9393-2f8f646257d4",
   "metadata": {},
   "source": [
    "## Translate text to English"
   ]
  },
  {
   "cell_type": "code",
   "execution_count": 10,
   "id": "bf5cfd00-4dcb-42df-9dd5-f0769fb1c739",
   "metadata": {},
   "outputs": [],
   "source": [
    "import re\n",
    "\n",
    "def split_text_into_chunks(text, chunk_size):\n",
    "    sentences = re.split(r'(?<=[.!?])\\s+', text)  # Split text by sentence-ending punctuation followed by a space\n",
    "    chunks = []\n",
    "    current_chunk = \"\"\n",
    "\n",
    "    for sentence in sentences:\n",
    "        # If adding the next sentence exceeds the chunk size, save the current chunk and start a new one\n",
    "        if len(current_chunk) + len(sentence) + 1 > chunk_size:\n",
    "            chunks.append(current_chunk.strip())\n",
    "            current_chunk = sentence\n",
    "        else:\n",
    "            current_chunk += \" \" + sentence\n",
    "\n",
    "    # Append the last chunk\n",
    "    if current_chunk:\n",
    "        chunks.append(current_chunk.strip())\n",
    "\n",
    "    return chunks"
   ]
  },
  {
   "cell_type": "code",
   "execution_count": 11,
   "id": "c9948d5b-017e-4d83-a423-404d8eae1967",
   "metadata": {
    "scrolled": true
   },
   "outputs": [
    {
     "data": {
      "text/plain": [
       "\"17 million is the number of people who have watched the closing ceremony of the Olympic Games in Paris, this Sunday evening in the stadium of France. A ceremony that thus signs the end of these ghosts 2024, which appear as a real success in place of the French obviously, but also of the whole world. So how do you explain it? Welcome to Blanche, I hope you're going well, it's the subject of one of these actus of the day. The first success of these games, are the televised audiences, but also the sale of tickets for the events. The eye-catcher audience, 58.4 million people, watch the Olympic Games on the antennas of France, the visions, according to the audiovisual group. The peak of the audience was reached on France 2, the 2nd or last, during the 4th gold medal of swimmer Léon Marchand, with 14.5 million television viewers. The ticket office, 9.5 million tickets were sold, or more than the record of 8.3 million tickets sold at the 1986 Atlantic Games in 1986. The second success, I don't teach you anything, it's at the level of increasingly less sporting for France in particular, which has exceeded its record of medals of the Atlantic Games medals, winning 16 gold medals, 26 silver medals and 22 bronze medals, or a total of 64 medals, if you want the details of records, etc. I put links in description. The authorities have also organised themselves well at the level of security and terrorist threat, 35 000 police and gendarmes, 18 000 military and 22 000 private security agents have been deployed throughout the duration of the games, deployed by 1800 international reinforcements, originating from a quarter of a country. And no major incident is to be regretted according to the government. The only and only real real problem that there has been, is the sabotage of the GV unit, a few hours before the beginning of the opening ceremony, on 26 July, the investigation is continuing. The fourth success, the fourth success, are public transportation, which has been very efficient and welcomed by most foreign tourists in the media, including in an article by the Parisian, which I am describing to you, while there has been announced chaos. According to Valérie Becresse, the president of the region of Il de France, 4 million passengers have been transported every day, which is 500 000 more than a classic summer. Otherwise, 11 metro lines out of 14 have posted results of greater regularity than 100%, and then part of the staff recruited for the giant restorers, then, this is the case of 250 additional RATP RATP drivers. Finally, I said it in introduction, but beyond the purely practical part, the international image of these Olympic Games was very good. It was seen with the two press that followed the opening ceremony, but also there with the closing ceremony. For example, under the title of the editorial of the American Media, Viyatlantique, you can read I Cite, merci Paris, we needed these Olympic Games, but beyond the purely practical part, the international image of these Olympic Games was very good Even with its cloak for the Washington Post titled I Cite, the Olympic Games needed a new start, thanks to Paris for offering it. On the other hand, the British newspaper The Guardian considers the Paris Olympics to be the most beautiful in history, the Spanish daily I-pa-y shares the success of these games which are also, according to him, on the podium of the best games in history. And, as a last example, the Italian newspaper Larae and Publica has highlighted games or the symbol of integration and the fight against discrimination. These games or theirs have a success in every respect, but then the question one can ask now is how to monetize all this. And quite rightly, on this subject, Emmanuel Macron expressed himself in an interview given to the team published this Sunday evening, just after the Closing Ceremony, he announced that he would disclose, I quote, the legacy measures of the Paris Games, on 14 September, after the deployment of French athletes on the chancelries. So we have already mentioned the fact that the Vasco-L'Empique remains in the Toulerie, but there might therefore be other announcements on his side, so there might be other announcements on his side, the mother of Paris, Annie Dalgo, has cited as legacy of the games, cleaner scenery and a new cycling track or even the arrangements made for accessibility. It is already known that the Aquatic Centre of Saint-Ni, one of the rare infrastructures built for the geniuses, will be transformed into a zone of multi-sport activity, open to all in 2025. La Réna porte de la chapelle will become the place of residence of the club Paris-Basquette-Bôle, and finally the Olympic village will become a zone of residence of 2.800 housing units, power to inquire up to 8,000 people, there will also be a student residence, a hotel and offices. There is also the question of sporting practice, dedicated a great national cause for 2024 by Emmanuel Macron. So according to Guillaume Ditch, the height of the book The youth and sport questioned by the newspaper Lacroix, it is necessary that the infrastructures follow. According to him it is also necessary to make sure that young people who will enroll in a sport at the start of the new year do not learn on the road, the volunteers of clubs and sports educators will therefore be the key, it is finally estimated that it is necessary to re-evaluate the PS at the school that remains the only subject that can be dispensed with. So of course there we have talked a lot about the successes of these giants and especially the speeches of the authorities in recent days that go in this direction, but a lot also raises important criticisms as well. There is, for example, a co-eco logic of these games 1.58 million tonnes of CO2 and MI, for example there is a co-eco logic of these games 1.58 million tonnes of CO2 and MI, which is the equivalent of what 150 000 people reject in France in a year according to Media Part There is also the social cost, in one year 5200 people were expelled from squat and corpsmandrues en nil in France, and they were sent to other regions without necessarily having any housing. If you want to know more about these criticisms, I put links in the description. So just before going to the news briefly, I wanted to tell you that we will come back in more detail on the Ukrainian incursion currently taking place in Russia. 121 000 people have been evacuated and we will talk about it more long in 1st of tomorrow and we will see all the questions that it raises. First act in France, 40 departments were put under canine orange surveillance on Monday next to France. At 5 o'clock in the morning, it was already 276° Anice, 262° Rocky Mountain, or 25,4° Lyon. At 5 o'clock in the morning, it This was the warmest day of the year so far recorded in France. In parallel, three departments have been placed in orange vigilance orange for the risk of violent thunderstorms. It is the cantal, the dust of the house and the highlands. To learn more about the dogs is to adopt, you can call free canicule info-service canicule info-service, available at 08.0066, 66, from 8 am to 19 pm. Announce that the temperature is expected to fall from this Tuesday. The second acts always in relation to the heat, but in case, this time, where intense fires and sometimes out of control blaze the country for a few days. Is the situation that the Greek Prime Minister, Kiryako, Mitzotakis, the Greek Prime Minister, has interrupted his holidays to return to Athens this Sunday evening to Athens? In fact, it is only three weeks since hundreds of fires broke out everywhere in Greece, particularly in the peak region of Patrasse, the peninsula of the Peloponnese Peninsula, or even in the mountains around Ceres in the north. The cause of these fires is a number of meteorological factors, linked to climate change, high temperatures, winds blowing with rafts and drought. It should be known that the months of June and July have been the hottest in Greece since the beginning of the collection of statistics in 1960. The Greek authorities have, in particular, ordered this Sunday evening, the evacuation of the city of Marathon, pre-Datedene, which is threatened by fires. The Olympic Oaka stadium, in northern Athens, has been opened to accommodate thousands of displaced people. And rightly so, the capital of Greece is burned by fires, in the Latin region. The relief expects very difficult days. Interior Minister Gerald Darmanin announced on Monday the dispatch of 180 firefighters and 55 trucks, we will continue to follow all this. Third action, France, the United Kingdom and Germany, called on this Monday in a joint communiqué, a ceasefire without any further delay in the Gaza Strip and the release of the hostages still held in Gaza. They also invited Iran and its allies not to launch an attack on Israel, in order to avoid I quote a new escalation of the conflict on their side Israel has accepted to resume negotiations for a ceasefire in Gaza, but only from August 15th on their side the United States has the aim at a summit organized by this judy quai judy in Egypt or Doha in Qatar to reach an agreement on a ceasefire with the help of Egypt and Qatar. Otherwise, Hamas called this Sunday evening to implement the three-phase plan proposed in July by the United States in the beginning of July for a very vague Gaza, rather than confusing more negotiations or bringing in new proposals, it also stated that it would not participate in the summit of this judy quai judy in Egypt or Doha in Qatar. Otherwise, Hamas called this Sunday evening to implement the three-phase plan proposed Since October 7, 2023, the day of the massive Hamas attack in Israel, 1888 people have been killed according to Israeli estimates, according to Israel, and 39790 people in Gaza, according to Hamas, have been killed, according to Israeli estimates, and 39790 people in Gaza, according to Hamas, have been killed, according to Israeli estimates. Nonetheless, nonetheless, Israelis and foreigners are still held hostage in Gaza, of which 39 have died according to the Israeli army. And ending with this act, the YouTuber Normand Tavo has released a video Sunday in which he returns to the accusations of rape and corruption of minors that he has been subjected to in recent years. In this video, Normand Tavo presents his apologies to the women who have published it in the past. He recognizes that he has been jecked sometimes inelegant and immature in his relationship to meetings and seduction, he talks about in particular triangles to designate his relationship to the woman, therefore the behaviour of a rough man, indelible. If you didn't follow everything, in fact, in fact an investigation was opened in 2022, after several women with some minors at the time of the facts had accused the YouTuber of having exchanged sexual photos with him and had sometimes had intimate relationships in 600 years of constraint. Three of the two of them had complained to him, but the investigation was classified unsuccessfully in October 2023. In his video, Normand also denounced the harassment of his wife Marta or one of the victims since the beginning of the case and explains that he envisaged the worst. They also say that they have more revenues since two years since YouTube demonstrated these videos and didn't know if it will one day resume its activity. So that's all for today. Thank you very much for always being so many to follow us even during the holidays. Take care of you and your loved ones and I tell you tomorrow. \""
      ]
     },
     "execution_count": 11,
     "metadata": {},
     "output_type": "execute_result"
    }
   ],
   "source": [
    "from transformers import MBartForConditionalGeneration, MBart50TokenizerFast\n",
    "\n",
    "model = MBartForConditionalGeneration.from_pretrained(\"facebook/mbart-large-50-many-to-many-mmt\")\n",
    "tokenizer = MBart50TokenizerFast.from_pretrained(\"facebook/mbart-large-50-many-to-many-mmt\")\n",
    "tokenizer.src_lang = language\n",
    "\n",
    "CHAR_LIMIT = 800\n",
    "chunks = split_text_into_chunks(text, CHAR_LIMIT)\n",
    "\n",
    "translated_text = \"\"\n",
    "\n",
    "for chunk in chunks:\n",
    "    encoded_hi = tokenizer(chunk, return_tensors=\"pt\")\n",
    "    generated_tokens = model.generate(\n",
    "        **encoded_hi,\n",
    "        forced_bos_token_id=tokenizer.lang_code_to_id[\"en_XX\"]\n",
    "    )\n",
    "    translated_text += tokenizer.batch_decode(generated_tokens, skip_special_tokens=True)[0] + \" \"\n",
    "    \n",
    "translated_text"
   ]
  },
  {
   "cell_type": "code",
   "execution_count": null,
   "id": "b17b6b75-7b53-48f4-b186-a4504359755b",
   "metadata": {},
   "outputs": [],
   "source": []
  }
 ],
 "metadata": {
  "kernelspec": {
   "display_name": "Python 3 (ipykernel)",
   "language": "python",
   "name": "python3"
  },
  "language_info": {
   "codemirror_mode": {
    "name": "ipython",
    "version": 3
   },
   "file_extension": ".py",
   "mimetype": "text/x-python",
   "name": "python",
   "nbconvert_exporter": "python",
   "pygments_lexer": "ipython3",
   "version": "3.10.12"
  }
 },
 "nbformat": 4,
 "nbformat_minor": 5
}
