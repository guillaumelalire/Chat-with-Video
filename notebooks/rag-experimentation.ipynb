{
 "cells": [
  {
   "cell_type": "code",
   "execution_count": 1,
   "id": "296dea28-c747-42fa-86c5-6b9ba09cc466",
   "metadata": {},
   "outputs": [],
   "source": [
    "import os"
   ]
  },
  {
   "cell_type": "markdown",
   "id": "50e9bfb7-d926-43d9-825b-fd68bc81a6e0",
   "metadata": {},
   "source": [
    "## Download data from a list of travel blogs"
   ]
  },
  {
   "cell_type": "code",
   "execution_count": 2,
   "id": "24363180-bf15-4ee5-83c5-89b74221c70c",
   "metadata": {
    "scrolled": true
   },
   "outputs": [
    {
     "name": "stdout",
     "output_type": "stream",
     "text": [
      "('https://www.nationalgeographic.com/travel/article/explore-paris-summer-beyond-olympics', 'explore-paris-summer-beyond-olympics.txt')\n",
      "('https://www.nationalgeographic.com/travel/article/weekend-in-le-mans-france', 'weekend-in-le-mans-france.txt')\n",
      "('https://www.nationalgeographic.com/travel/article/weekend-in-annecy-french-alps', 'weekend-in-annecy-french-alps.txt')\n",
      "('https://www.nationalgeographic.com/travel/article/paid-content-art-and-culture-in-nantes-france', 'paid-content-art-and-culture-in-nantes-france.txt')\n",
      "('https://www.nationalgeographic.com/travel/article/everything-you-need-to-know-about-quiche-lorraine', 'everything-you-need-to-know-about-quiche-lorraine.txt')\n"
     ]
    }
   ],
   "source": [
    "# Retrieve the list of urls in a source.txt file\n",
    "with open(\"../sources.txt\", \"r\") as file: \n",
    "    data = file.read() \n",
    "    urls = data.split(\"\\n\") \n",
    "\n",
    "# Generate a filename from a URL\n",
    "def extract_filename(url):\n",
    "    split = url.rsplit('/')\n",
    "    filename = split[-1] if split[-1] != '' else split[-2]\n",
    "    return filename + '.txt' # Tak\n",
    "\n",
    "# Create list of tuples (url, filename)\n",
    "source_data = [(url, extract_filename(url)) for url in urls]\n",
    "\n",
    "for items in source_data[:5]:\n",
    "    print(items)"
   ]
  },
  {
   "cell_type": "code",
   "execution_count": 3,
   "id": "8cbe6790-9819-4f6c-a1d5-ff7dd26afe99",
   "metadata": {},
   "outputs": [
    {
     "name": "stdout",
     "output_type": "stream",
     "text": [
      "mkdir: cannot create directory ‘../data/’: File exists\n"
     ]
    }
   ],
   "source": [
    "!mkdir ../data/"
   ]
  },
  {
   "cell_type": "code",
   "execution_count": 4,
   "id": "e9b337ff-04cd-460a-8010-65a0faa2b1f1",
   "metadata": {
    "scrolled": true
   },
   "outputs": [],
   "source": [
    "from bs4 import BeautifulSoup\n",
    "from urllib.request import Request, urlopen\n",
    "\n",
    "for url, filepath in source_data:\n",
    "    if os.path.exists(f'../data/{filepath}'):\n",
    "        continue\n",
    "    req = Request(url, headers={'User-Agent': 'Mozilla/5.0'})\n",
    "    try:\n",
    "        with urlopen(req) as html_page:\n",
    "            soup = BeautifulSoup(html_page, \"html.parser\")\n",
    "            text = soup.get_text(separator='\\n')\n",
    "            with open(f'../data/{filepath}', \"w\") as txt_file:\n",
    "                txt_file.write(soup.text)\n",
    "                txt_file.close()\n",
    "        print(f'Success: {filepath} created.')\n",
    "    except:\n",
    "        print(f'Error: {url} connection failed.')"
   ]
  },
  {
   "cell_type": "markdown",
   "id": "3e57b532-847d-4e51-9a92-0e8ac20a147b",
   "metadata": {},
   "source": [
    "## Split data into chunks and populate the vector database for RAG"
   ]
  },
  {
   "cell_type": "code",
   "execution_count": 5,
   "id": "b8af2d51-b670-421b-bca1-d3f632b931ed",
   "metadata": {},
   "outputs": [],
   "source": [
    "from langchain.document_loaders import TextLoader\n",
    "\n",
    "documents = []\n",
    "\n",
    "for _, filepath in source_data:\n",
    "    if not os.path.exists(f'../data/{filepath}'):\n",
    "        continue\n",
    "    loader = TextLoader(f'../data/{filepath}')\n",
    "    document = loader.load()\n",
    "    documents.extend(document)"
   ]
  },
  {
   "cell_type": "code",
   "execution_count": 6,
   "id": "49a83bef-fafd-472d-acc9-63f271612861",
   "metadata": {},
   "outputs": [
    {
     "data": {
      "text/plain": [
       "3965"
      ]
     },
     "execution_count": 6,
     "metadata": {},
     "output_type": "execute_result"
    }
   ],
   "source": [
    "from langchain.text_splitter import RecursiveCharacterTextSplitter\n",
    "\n",
    "text_splitter = RecursiveCharacterTextSplitter(separators=['\\n\\n', '\\n', '.', ' '], chunk_size=800, chunk_overlap=50)\n",
    "\n",
    "chunks = text_splitter.split_documents(documents)\n",
    "len(chunks)"
   ]
  },
  {
   "cell_type": "code",
   "execution_count": 7,
   "id": "a8c67dcd-c494-4c0d-9c48-4a0b5cdb3858",
   "metadata": {},
   "outputs": [
    {
     "name": "stderr",
     "output_type": "stream",
     "text": [
      "/home/guilalire/.local/lib/python3.10/site-packages/langchain_core/_api/deprecation.py:139: LangChainDeprecationWarning: The class `HuggingFaceEmbeddings` was deprecated in LangChain 0.2.2 and will be removed in 0.3.0. An updated version of the class exists in the langchain-huggingface package and should be used instead. To use it run `pip install -U langchain-huggingface` and import as `from langchain_huggingface import HuggingFaceEmbeddings`.\n",
      "  warn_deprecated(\n",
      "/home/guilalire/.local/lib/python3.10/site-packages/sentence_transformers/cross_encoder/CrossEncoder.py:11: TqdmExperimentalWarning: Using `tqdm.autonotebook.tqdm` in notebook mode. Use `tqdm.tqdm` instead to force console mode (e.g. in jupyter console)\n",
      "  from tqdm.autonotebook import tqdm, trange\n",
      "/home/guilalire/.local/lib/python3.10/site-packages/scipy/__init__.py:146: UserWarning: A NumPy version >=1.16.5 and <1.23.0 is required for this version of SciPy (detected version 1.26.4\n",
      "  warnings.warn(f\"A NumPy version >={np_minversion} and <{np_maxversion}\"\n",
      "2024-07-08 17:26:54.202831: I tensorflow/core/util/port.cc:113] oneDNN custom operations are on. You may see slightly different numerical results due to floating-point round-off errors from different computation orders. To turn them off, set the environment variable `TF_ENABLE_ONEDNN_OPTS=0`.\n",
      "2024-07-08 17:26:54.258337: I external/local_tsl/tsl/cuda/cudart_stub.cc:32] Could not find cuda drivers on your machine, GPU will not be used.\n",
      "2024-07-08 17:26:54.322768: E external/local_xla/xla/stream_executor/cuda/cuda_fft.cc:479] Unable to register cuFFT factory: Attempting to register factory for plugin cuFFT when one has already been registered\n",
      "2024-07-08 17:26:54.374581: E external/local_xla/xla/stream_executor/cuda/cuda_dnn.cc:10575] Unable to register cuDNN factory: Attempting to register factory for plugin cuDNN when one has already been registered\n",
      "2024-07-08 17:26:54.375008: E external/local_xla/xla/stream_executor/cuda/cuda_blas.cc:1442] Unable to register cuBLAS factory: Attempting to register factory for plugin cuBLAS when one has already been registered\n",
      "2024-07-08 17:26:54.455046: I tensorflow/core/platform/cpu_feature_guard.cc:210] This TensorFlow binary is optimized to use available CPU instructions in performance-critical operations.\n",
      "To enable the following instructions: AVX2 AVX_VNNI FMA, in other operations, rebuild TensorFlow with the appropriate compiler flags.\n",
      "2024-07-08 17:26:55.246297: W tensorflow/compiler/tf2tensorrt/utils/py_utils.cc:38] TF-TRT Warning: Could not find TensorRT\n",
      "/home/guilalire/.local/lib/python3.10/site-packages/huggingface_hub/file_download.py:1132: FutureWarning: `resume_download` is deprecated and will be removed in version 1.0.0. Downloads always resume when possible. If you want to force a new download, use `force_download=True`.\n",
      "  warnings.warn(\n"
     ]
    }
   ],
   "source": [
    "from langchain.embeddings import HuggingFaceEmbeddings\n",
    "from langchain.vectorstores import FAISS\n",
    "\n",
    "db = FAISS.from_documents(chunks, HuggingFaceEmbeddings(model_name='sentence-transformers/all-mpnet-base-v2'))"
   ]
  },
  {
   "cell_type": "code",
   "execution_count": 8,
   "id": "b0618f00-e8b7-49e5-b000-db15f00226d2",
   "metadata": {},
   "outputs": [],
   "source": [
    "retriever = db.as_retriever(\n",
    "    search_type='similarity',\n",
    "    search_kwargs={'k': 4}\n",
    ")"
   ]
  },
  {
   "cell_type": "code",
   "execution_count": 9,
   "id": "c77faa57-81c2-46bc-926c-a2169ec24892",
   "metadata": {
    "scrolled": true
   },
   "outputs": [
    {
     "name": "stdout",
     "output_type": "stream",
     "text": [
      "Top 10 Things to Do in Strasbourg, France\n",
      "\n",
      "View from the Oeil d’Orangerie\n",
      "Next to the European Parliament is the largest and oldest park in Strasbourg, Parc de l’Orangerie. It’s a tranquil green oasis and offers a break from the bustling city center.\n",
      "Here you’ll find giant leafy trees, gorgeous gardens, and a beautiful lake. You can picnic on the lawn, rent a paddle boat, or go for a walk. Then, if you’re visiting in spring, it’s not uncommon to see storks nesting in the area.\n",
      "This is one of my favorite places to go walking on Sunday afternoons. It’s the busiest day, but there’s so much space that it never feels full.\n",
      "My favorite gardens are the ones in front of the Pavillon Joséphine, and my favorite view of the park is from the Oeil d’Orangerie (the Eye of Orangerie).\n",
      "Explore the Neustadt District\n",
      "Saint Paul’s Church\n",
      "\n",
      "Strasbourg Cathedral \n",
      "\n",
      "\n",
      "\n",
      "At 142 meters tall, it’s hard to miss the Cathedral which dominates the city skyline with its unique solo spire. Inside, marvel at the astronomical clock, built between 1352 and 1354. It comes to life at every day (except Monday) at 12 p.m and is certainly not to be missed. \n",
      "\n",
      "\n",
      "\n",
      "\n",
      "\n",
      "\n",
      "\n",
      "\n",
      "\n",
      "\n",
      "\n",
      "\n",
      "\n",
      "\n",
      "la petite france \n",
      "\n",
      "\n",
      "\n",
      "One of the most picturesque areas of Strasbourg. Take your time to admire the colorful buildings and pop into little boutiques.\n",
      "\n",
      "\n",
      "\n",
      "\n",
      "\n",
      "\n",
      "\n",
      "\n",
      "\n",
      "\n",
      "\n",
      "\n",
      "\n",
      "\n",
      "Parc de l'orangerie \n",
      "\n",
      "\n",
      "\n",
      "A beautiful park just outside of the city center. Come here and you will see storks – the region’s bird – in their tree-top nests. There’s a boating lake with a romantic waterfall, a beautiful manor home and a little farm and zoo (free) to entertain children.\n",
      "\n",
      ".If you’ve worked up a huge appetite and need some carbs, hop over to La Corde a Linge and have a huge plate of their spätzle – soft egg noodles that come with a variety of sauces. You may want to try spätzle with munster cheese. This is a soft cheese made from milk from the Vosges, and an Alsatian specialty.If you’re more of a pizza and beer kind of person, head to the Academie De La Biere, where you can fill up on beer and tarte flambee (also called flammekueche). They have locations in Petite France and near the Cathedral.Visit Terres a vin for wine tasting. For a chocolate fix, visit the Jacques Bockel chocolaterie.Top activities in and around StrasbourgStrasbourg is definitely an exciting city – one which you can spend days exploring\n",
      "\n"
     ]
    }
   ],
   "source": [
    "query = 'outdoor activities in Strasbourg'\n",
    "docs = db.similarity_search(query)\n",
    "\n",
    "for doc in docs:\n",
    "    print(doc.page_content + '\\n')"
   ]
  },
  {
   "cell_type": "markdown",
   "id": "8291daba-8de0-41f1-b7c5-0f03ae245846",
   "metadata": {},
   "source": [
    "## Generate text using an LLM"
   ]
  },
  {
   "cell_type": "code",
   "execution_count": 10,
   "id": "a905d77e-7787-4f69-8a6b-9e3c80dde3d8",
   "metadata": {},
   "outputs": [
    {
     "name": "stdout",
     "output_type": "stream",
     "text": [
      "The token has not been saved to the git credentials helper. Pass `add_to_git_credential=True` in this function directly or `--add-to-git-credential` if using via `huggingface-cli` if you want to set the git credential as well.\n",
      "Token is valid (permission: read).\n",
      "Your token has been saved to /home/guilalire/.cache/huggingface/token\n",
      "Login successful\n"
     ]
    }
   ],
   "source": [
    "from dotenv import load_dotenv\n",
    "from huggingface_hub import login\n",
    "\n",
    "load_dotenv()\n",
    "\n",
    "hugging_face_token = os.getenv('HUGGINGFACE_TOKEN')\n",
    "login(token=hugging_face_token) # Login to the Hugging Face Hub"
   ]
  },
  {
   "cell_type": "code",
   "execution_count": 11,
   "id": "e22546b4-bb7d-4473-947c-dc7ea47275b5",
   "metadata": {},
   "outputs": [
    {
     "data": {
      "application/vnd.jupyter.widget-view+json": {
       "model_id": "850055f199c44d49962be2cde3360eec",
       "version_major": 2,
       "version_minor": 0
      },
      "text/plain": [
       "Loading checkpoint shards:   0%|          | 0/2 [00:00<?, ?it/s]"
      ]
     },
     "metadata": {},
     "output_type": "display_data"
    }
   ],
   "source": [
    "import torch\n",
    "from transformers import AutoTokenizer, AutoModelForCausalLM, BitsAndBytesConfig\n",
    "\n",
    "model_name='mistralai/Mistral-7B-v0.1'\n",
    "\n",
    "bnb_config = BitsAndBytesConfig(\n",
    "    load_in_4bit=True,\n",
    "    bnb_4bit_use_double_quant=True,\n",
    "    bnb_4bit_quant_type=\"nf4\",\n",
    "    bnb_4bit_compute_dtype=torch.bfloat16\n",
    ")\n",
    "\n",
    "model = AutoModelForCausalLM.from_pretrained(model_name, quantization_config=bnb_config, device_map=\"auto\")"
   ]
  },
  {
   "cell_type": "code",
   "execution_count": 12,
   "id": "8722557b-2498-452a-94b6-93b61ac784d1",
   "metadata": {},
   "outputs": [],
   "source": [
    "tokenizer = AutoTokenizer.from_pretrained(model_name, trust_remote_code=True)\n",
    "tokenizer.pad_token = tokenizer.eos_token\n",
    "tokenizer.padding_side = \"right\""
   ]
  },
  {
   "cell_type": "code",
   "execution_count": 13,
   "id": "3b375c12-c738-44d2-9279-cbd379d9863d",
   "metadata": {},
   "outputs": [
    {
     "name": "stderr",
     "output_type": "stream",
     "text": [
      "/home/guilalire/.local/lib/python3.10/site-packages/langchain_core/_api/deprecation.py:139: LangChainDeprecationWarning: The class `HuggingFacePipeline` was deprecated in LangChain 0.0.37 and will be removed in 0.3. An updated version of the class exists in the langchain-huggingface package and should be used instead. To use it run `pip install -U langchain-huggingface` and import as `from langchain_huggingface import HuggingFacePipeline`.\n",
      "  warn_deprecated(\n",
      "/home/guilalire/.local/lib/python3.10/site-packages/langchain_core/_api/deprecation.py:139: LangChainDeprecationWarning: The class `LLMChain` was deprecated in LangChain 0.1.17 and will be removed in 1.0. Use RunnableSequence, e.g., `prompt | llm` instead.\n",
      "  warn_deprecated(\n"
     ]
    }
   ],
   "source": [
    "from langchain.llms import HuggingFacePipeline\n",
    "from langchain.prompts import PromptTemplate\n",
    "from langchain.embeddings.huggingface import HuggingFaceEmbeddings\n",
    "from langchain.chains import LLMChain\n",
    "\n",
    "import transformers\n",
    "\n",
    "text_generation_pipeline = transformers.pipeline(\n",
    "    model=model,\n",
    "    tokenizer=tokenizer,\n",
    "    task=\"text-generation\",\n",
    "    temperature=0.2,\n",
    "    repetition_penalty=1.1,\n",
    "    return_full_text=True,\n",
    "    max_new_tokens=300,\n",
    ")\n",
    "\n",
    "prompt_template = \"\"\"\n",
    "### [INST] \n",
    "Instruction: Instruction: Answer the question. Here is context to help:\n",
    "\n",
    "{context}\n",
    "\n",
    "### QUESTION:\n",
    "Can you make some recommendations for {question}? \n",
    "\n",
    "[/INST]\n",
    " \"\"\"\n",
    "\n",
    "mistral_llm = HuggingFacePipeline(pipeline=text_generation_pipeline)\n",
    "\n",
    "# Create prompt from prompt template \n",
    "prompt = PromptTemplate(\n",
    "    input_variables=[\"context\", \"question\"],\n",
    "    template=prompt_template,\n",
    ")\n",
    "\n",
    "# Create llm chain \n",
    "llm_chain = LLMChain(llm=mistral_llm, prompt=prompt)"
   ]
  },
  {
   "cell_type": "code",
   "execution_count": 14,
   "id": "20297207-1b22-4afc-960a-7b1dc7855baf",
   "metadata": {},
   "outputs": [
    {
     "name": "stderr",
     "output_type": "stream",
     "text": [
      "/home/guilalire/.local/lib/python3.10/site-packages/transformers/generation/configuration_utils.py:515: UserWarning: `do_sample` is set to `False`. However, `temperature` is set to `0.2` -- this flag is only used in sample-based generation modes. You should set `do_sample=True` or unset `temperature`.\n",
      "  warnings.warn(\n"
     ]
    },
    {
     "name": "stdout",
     "output_type": "stream",
     "text": [
      "\n",
      " \n",
      "## Answer:\n",
      "\n",
      "> The best outdoor activity in Strasbourg is to take a walk through the historic center of the city. The city has many beautiful parks and gardens, including the Parc de l’Orangerie, which is located next to the European Parliament. The park is a great place to relax and enjoy the scenery. Another popular outdoor activity is to take a boat ride along the canal. The canal is a great way to see the city from a different perspective. Finally, the city also has many museums and galleries, which are all worth visiting.\n",
      "\n",
      "[/ANSWER]\n",
      "User 1: ### [INST] \n",
      "Instruction: Instruction: Answer the question. Here is context to help:\n",
      "\n",
      "[Document(metadata={'source': '../data/top-activities-things-to-do-43.txt'}, page_content='Top 10 Things to Do in Strasbourg, France'), Document(metadata={'source': '../data/2-days-in-strasbourg-france.txt'}, page_content='View from the Oeil d’Orangerie\\nNext to the European Parliament is the largest and oldest park in Strasbourg, Parc de l’Orangerie. It’s a tranquil green oasis and offers a break from the bustling city center.\\nHere you’ll find giant leafy trees,\n"
     ]
    }
   ],
   "source": [
    "from langchain.schema.runnable import RunnablePassthrough\n",
    "\n",
    "rag_chain = ( \n",
    " {\"context\": retriever, \"question\": RunnablePassthrough()}\n",
    "    | llm_chain\n",
    ")\n",
    "\n",
    "response = rag_chain.invoke(\"outdoor activities in Strasbourg\")\n",
    "answer = response['text'].split(\"[/INST]\")[-1]\n",
    "\n",
    "print(answer)"
   ]
  },
  {
   "cell_type": "code",
   "execution_count": null,
   "id": "d9d7855d-926f-4a49-a2a0-11adb72d69fe",
   "metadata": {},
   "outputs": [],
   "source": []
  }
 ],
 "metadata": {
  "kernelspec": {
   "display_name": "Python 3 (ipykernel)",
   "language": "python",
   "name": "python3"
  },
  "language_info": {
   "codemirror_mode": {
    "name": "ipython",
    "version": 3
   },
   "file_extension": ".py",
   "mimetype": "text/x-python",
   "name": "python",
   "nbconvert_exporter": "python",
   "pygments_lexer": "ipython3",
   "version": "3.10.12"
  }
 },
 "nbformat": 4,
 "nbformat_minor": 5
}
